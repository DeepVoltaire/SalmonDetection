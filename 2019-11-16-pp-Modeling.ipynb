{
 "cells": [
  {
   "cell_type": "markdown",
   "metadata": {},
   "source": [
    "# Fish Net Classification"
   ]
  },
  {
   "cell_type": "code",
   "execution_count": 3,
   "metadata": {
    "ExecuteTime": {
     "end_time": "2019-12-02T20:38:50.860766Z",
     "start_time": "2019-12-02T20:38:47.946391Z"
    }
   },
   "outputs": [
    {
     "data": {
      "text/html": [
       "<style>.container { width:100% !important; }</style>"
      ],
      "text/plain": [
       "<IPython.core.display.HTML object>"
      ]
     },
     "metadata": {},
     "output_type": "display_data"
    }
   ],
   "source": [
    "%matplotlib inline\n",
    "%reload_ext autoreload\n",
    "%autoreload 2\n",
    "\n",
    "import os\n",
    "os.environ[\"CUDA_VISIBLE_DEVICES\"] = \"0\"  # specify which GPU(s) to be used\n",
    "import pandas as pd\n",
    "import numpy as np\n",
    "\n",
    "import torch\n",
    "import torch.backends.cudnn as cudnn\n",
    "cudnn.benchmark = True\n",
    "\n",
    "import glob\n",
    "from PIL import Image\n",
    "import albumentations\n",
    "import matplotlib.pyplot as plt\n",
    "from tqdm import tqdm\n",
    "import seaborn as sns\n",
    "sns.set_style(\"white\")\n",
    "\n",
    "from train import main, SalmonDataset\n",
    "\n",
    "from IPython.core.display import display, HTML\n",
    "display(HTML(\"<style>.container { width:100% !important; }</style>\"))\n",
    "\n",
    "data_path = \"/media/slowSSD/Carribean_Challenge/data/fish\""
   ]
  },
  {
   "cell_type": "markdown",
   "metadata": {
    "heading_collapsed": true
   },
   "source": [
    "## Resizing"
   ]
  },
  {
   "cell_type": "code",
   "execution_count": 3,
   "metadata": {
    "ExecuteTime": {
     "end_time": "2020-08-05T18:32:57.972146Z",
     "start_time": "2020-08-05T18:32:57.966830Z"
    },
    "hidden": true
   },
   "outputs": [],
   "source": [
    "images = glob.glob(\"{}/nets/*.png\".format(data_path))\n",
    "labels = [1]*len(images)\n",
    "how_many_nets = len(labels)\n",
    "print(\"{:3} images with nets present\".format(how_many_nets))\n",
    "\n",
    "images += glob.glob(\"{}/no_nets/*.png\".format(data_path))\n",
    "how_many_without_nets = len(images)-how_many_nets\n",
    "labels += [0]*how_many_without_nets\n",
    "print(\"{:3} images without nets present\".format(how_many_without_nets))"
   ]
  },
  {
   "cell_type": "code",
   "execution_count": 17,
   "metadata": {
    "ExecuteTime": {
     "end_time": "2019-11-17T15:00:52.881981Z",
     "start_time": "2019-11-17T15:00:52.852317Z"
    },
    "hidden": true
   },
   "outputs": [],
   "source": [
    "img = Image.open(images[-1])\n",
    "img.size"
   ]
  },
  {
   "cell_type": "code",
   "execution_count": 13,
   "metadata": {
    "ExecuteTime": {
     "end_time": "2019-11-18T13:33:27.281316Z",
     "start_time": "2019-11-18T13:33:27.206459Z"
    },
    "hidden": true
   },
   "outputs": [
    {
     "name": "stdout",
     "output_type": "stream",
     "text": [
      "32 cpus\n"
     ]
    }
   ],
   "source": [
    "from concurrent.futures import ThreadPoolExecutor, ProcessPoolExecutor\n",
    "import multiprocessing\n",
    "cpus = multiprocessing.cpu_count()\n",
    "cpus = min(48, cpus)\n",
    "print(\"{} cpus\".format(cpus))"
   ]
  },
  {
   "cell_type": "code",
   "execution_count": 14,
   "metadata": {
    "ExecuteTime": {
     "end_time": "2019-11-18T13:33:27.511569Z",
     "start_time": "2019-11-18T13:33:27.471496Z"
    },
    "hidden": true
   },
   "outputs": [],
   "source": [
    "# sz = (450, 432)\n",
    "sz = (900, 864)"
   ]
  },
  {
   "cell_type": "code",
   "execution_count": 15,
   "metadata": {
    "ExecuteTime": {
     "end_time": "2019-11-18T13:33:27.748744Z",
     "start_time": "2019-11-18T13:33:27.724788Z"
    },
    "hidden": true
   },
   "outputs": [],
   "source": [
    "replace_string = 'nets'\n",
    "replace_string_with = \"nets_{}x{}\".format(sz[0], sz[1])"
   ]
  },
  {
   "cell_type": "code",
   "execution_count": 16,
   "metadata": {
    "ExecuteTime": {
     "end_time": "2019-11-18T13:33:28.541249Z",
     "start_time": "2019-11-18T13:33:28.439008Z"
    },
    "hidden": true
   },
   "outputs": [],
   "source": [
    "shutil.rmtree(\"{}/nets_{}x{}\".format(data_path, sz[0], sz[1]))\n",
    "shutil.rmtree(\"{}/no_nets_{}x{}\".format(data_path, sz[0], sz[1]))\n",
    "\n",
    "os.makedirs(\"{}/nets_{}x{}\".format(data_path, sz[0], sz[1]), exist_ok=True)\n",
    "os.makedirs(\"{}/no_nets_{}x{}\".format(data_path, sz[0], sz[1]), exist_ok=True)"
   ]
  },
  {
   "cell_type": "code",
   "execution_count": 17,
   "metadata": {
    "ExecuteTime": {
     "end_time": "2019-11-18T13:33:29.094595Z",
     "start_time": "2019-11-18T13:33:29.055863Z"
    },
    "hidden": true
   },
   "outputs": [],
   "source": [
    "def resize_img(im, fn):\n",
    "    im = im.resize(sz, resample=Image.BICUBIC)\n",
    "    im.save(fn.replace(replace_string, replace_string_with))\n",
    "\n",
    "def resizer_img(fn):\n",
    "    im = Image.open(fn).convert(\"RGB\")\n",
    "    print(\"{:50} -> {:50}: {}\".format(fn, fn.replace(replace_string, replace_string_with), im.size))\n",
    "    resize_img(im, fn)\n",
    "\n",
    "def resize_imgs(img_paths):\n",
    "    with ProcessPoolExecutor(cpus) as e: e.map(resizer_img, img_paths)"
   ]
  },
  {
   "cell_type": "code",
   "execution_count": 4,
   "metadata": {
    "ExecuteTime": {
     "end_time": "2020-08-05T18:33:06.839399Z",
     "start_time": "2020-08-05T18:33:06.835045Z"
    },
    "hidden": true,
    "scrolled": true
   },
   "outputs": [],
   "source": [
    "resize_imgs(images)"
   ]
  },
  {
   "cell_type": "markdown",
   "metadata": {},
   "source": [
    "## Training - much more data, 900x864"
   ]
  },
  {
   "cell_type": "code",
   "execution_count": 19,
   "metadata": {
    "ExecuteTime": {
     "end_time": "2019-11-18T13:43:48.306904Z",
     "start_time": "2019-11-18T13:43:48.197219Z"
    }
   },
   "outputs": [
    {
     "name": "stdout",
     "output_type": "stream",
     "text": [
      "111 images with nets present\n",
      "7531 images without nets present\n",
      "############################################################\n",
      "6495 Train images --> 94 nets = 1.4%\n",
      "1147 Valid images --> 17 nets = 1.5%\n"
     ]
    }
   ],
   "source": [
    "# sz = (450, 432)\n",
    "sz = (900, 864)\n",
    "random_crop = 448\n",
    "val_percentage = 0.15\n",
    "\n",
    "# IMAGES WITH NETS\n",
    "images = glob.glob(\"{}/nets_{}x{}/*.png\".format(data_path, sz[0], sz[1]))\n",
    "labels = [1]*len(images)\n",
    "how_many_nets = len(labels)\n",
    "print(\"{:3} images with nets present\".format(how_many_nets))\n",
    "\n",
    "# VAL/TRAIN SPLIT\n",
    "np.random.seed(1338)\n",
    "np.random.shuffle(images)\n",
    "np.random.seed(1338)\n",
    "np.random.shuffle(labels)\n",
    "\n",
    "train_images = images[:int((1-val_percentage)*len(images))]\n",
    "train_labels = labels[:int((1-val_percentage)*len(labels))]\n",
    "val_images = images[int((1-val_percentage)*len(images)):]\n",
    "val_labels = labels[int((1-val_percentage)*len(labels)):]\n",
    "\n",
    "# IMAGES WITHOUT NETS\n",
    "images = glob.glob(\"{}/no_nets_{}x{}/*.png\".format(data_path, sz[0], sz[1]))\n",
    "how_many_without_nets = len(images)\n",
    "labels = [0]*how_many_without_nets\n",
    "print(\"{:3} images without nets present\".format(how_many_without_nets))\n",
    "\n",
    "# VAL/TRAIN SPLIT\n",
    "np.random.seed(1339)\n",
    "np.random.shuffle(images)\n",
    "np.random.seed(1339)\n",
    "np.random.shuffle(labels)\n",
    "\n",
    "train_images += images[:int((1-val_percentage)*len(images))]\n",
    "train_labels += labels[:int((1-val_percentage)*len(labels))]\n",
    "val_images += images[int((1-val_percentage)*len(images)):]\n",
    "val_labels += labels[int((1-val_percentage)*len(labels)):]\n",
    "\n",
    "print(\"#\"*60)\n",
    "print(\"{:3} Train images --> {:2} nets = {:.1f}%\".format(len(train_images), sum(train_labels), 100*sum(train_labels)/len(train_images)))\n",
    "print(\"{:3} Valid images --> {:2} nets = {:.1f}%\".format(len(val_images), sum(val_labels), 100*sum(val_labels)/len(val_images)))"
   ]
  },
  {
   "cell_type": "code",
   "execution_count": 20,
   "metadata": {
    "ExecuteTime": {
     "end_time": "2019-11-18T13:52:14.563885Z",
     "start_time": "2019-11-18T13:52:14.479951Z"
    }
   },
   "outputs": [],
   "source": [
    "train_dataset_raw = SalmonDataset(images=train_images, targets=train_labels) \n",
    "\n",
    "train_transforms = []\n",
    "train_transforms.append(albumentations.RandomCrop(random_crop, random_crop))\n",
    "train_dataset = SalmonDataset(images=train_images, targets=train_labels, \n",
    "                              transforms=albumentations.Compose(train_transforms)) \n",
    "\n",
    "val_transforms = []\n",
    "val_dataset = SalmonDataset(images=val_images, targets=val_labels, transforms=albumentations.Compose(val_transforms)) \n",
    "\n",
    "train_loader = torch.utils.data.DataLoader(train_dataset, batch_size=32, shuffle=True, num_workers=10, pin_memory=True)\n",
    "val_loader = torch.utils.data.DataLoader(val_dataset, batch_size=32, shuffle=False, num_workers=10, pin_memory=True)"
   ]
  },
  {
   "cell_type": "markdown",
   "metadata": {},
   "source": [
    "__Visualize__"
   ]
  },
  {
   "cell_type": "code",
   "execution_count": 21,
   "metadata": {
    "ExecuteTime": {
     "end_time": "2019-11-18T13:52:14.927883Z",
     "start_time": "2019-11-18T13:52:14.899894Z"
    },
    "scrolled": true
   },
   "outputs": [],
   "source": [
    "for j in range(10):\n",
    "    rand_int = np.random.randint(len(train_dataset))\n",
    "    f, axarr = plt.subplots(1, 4, figsize=(30, 12))\n",
    "    sample = train_dataset_raw[rand_int]\n",
    "    axarr[0].imshow(np.transpose((sample[\"image\"].numpy()*255).astype(np.uint8), (1,2,0)))\n",
    "    if sample[\"target\"]==1: axarr[0].set_title(classes[0])\n",
    "    else: axarr[0].set_title(\"No net\")\n",
    "    print(train_images[rand_int])\n",
    "    axarr[1].imshow(np.transpose((train_dataset[rand_int][\"image\"].numpy()*255).astype(np.uint8), (1,2,0)))\n",
    "    axarr[2].imshow(np.transpose((train_dataset[rand_int][\"image\"].numpy()*255).astype(np.uint8), (1,2,0)))\n",
    "    axarr[3].imshow(np.transpose((train_dataset[rand_int][\"image\"].numpy()*255).astype(np.uint8), (1,2,0)))\n",
    "    plt.show()"
   ]
  },
  {
   "cell_type": "code",
   "execution_count": 22,
   "metadata": {
    "ExecuteTime": {
     "end_time": "2019-11-18T13:52:16.153182Z",
     "start_time": "2019-11-18T13:52:16.006360Z"
    }
   },
   "outputs": [],
   "source": [
    "epochs = 1000\n",
    "print_every_x_batches = 1000\n",
    "lr = 0.001\n",
    "arch = \"resnet18\""
   ]
  },
  {
   "cell_type": "code",
   "execution_count": 23,
   "metadata": {
    "ExecuteTime": {
     "end_time": "2019-11-18T14:18:31.147289Z",
     "start_time": "2019-11-18T13:52:20.278051Z"
    },
    "scrolled": true
   },
   "outputs": [
    {
     "name": "stdout",
     "output_type": "stream",
     "text": [
      "resnet18_94nets_6401wo_val_v1_resize_900x864_rc_448_pat3\n",
      "Epoch: [0]\tTime  0.173\tData  0.009\tLoss 8.2861e-02\tAcc@1 0.9800\n",
      "Val: Loss 0.0641 Acc@1 0.9852\n",
      "Epoch: [1]\tTime  0.157\tData  0.009\tLoss 5.7166e-02\tAcc@1 0.9851\n",
      "Val: Loss 0.0727 Acc@1 0.9852\n",
      "Epoch: [2]\tTime  0.159\tData  0.010\tLoss 5.7423e-02\tAcc@1 0.9848\n",
      "Val: Loss 0.0581 Acc@1 0.9852\n",
      "Epoch: [3]\tTime  0.158\tData  0.009\tLoss 5.0033e-02\tAcc@1 0.9848\n",
      "Val: Loss 0.0580 Acc@1 0.9843\n",
      "Epoch: [4]\tTime  0.158\tData  0.009\tLoss 4.8404e-02\tAcc@1 0.9846\n",
      "Val: Loss 0.0706 Acc@1 0.9808\n",
      "Epoch: [5]\tTime  0.159\tData  0.010\tLoss 5.2654e-02\tAcc@1 0.9846\n",
      "Val: Loss 0.1485 Acc@1 0.9582\n",
      "Epoch: [6]\tTime  0.159\tData  0.009\tLoss 4.2602e-02\tAcc@1 0.9860\n",
      "Val: Loss 0.0606 Acc@1 0.9852\n",
      "Epoch: [7]\tTime  0.159\tData  0.009\tLoss 4.3537e-02\tAcc@1 0.9865\n",
      "Val: Loss 0.0475 Acc@1 0.9869\n",
      "Epoch: [8]\tTime  0.159\tData  0.010\tLoss 3.0870e-02\tAcc@1 0.9909\n",
      "Val: Loss 0.0547 Acc@1 0.9843\n",
      "Epoch: [9]\tTime  0.159\tData  0.010\tLoss 2.9969e-02\tAcc@1 0.9912\n",
      "Val: Loss 0.0620 Acc@1 0.9852\n",
      "Epoch: [10]\tTime  0.160\tData  0.010\tLoss 3.3971e-02\tAcc@1 0.9901\n",
      "Val: Loss 0.0396 Acc@1 0.9895\n",
      "Epoch: [11]\tTime  0.160\tData  0.010\tLoss 2.2563e-02\tAcc@1 0.9937\n",
      "Val: Loss 0.0815 Acc@1 0.9852\n",
      "Epoch: [12]\tTime  0.158\tData  0.009\tLoss 2.7376e-02\tAcc@1 0.9915\n",
      "Val: Loss 0.0354 Acc@1 0.9895\n",
      "Epoch: [13]\tTime  0.159\tData  0.009\tLoss 2.2271e-02\tAcc@1 0.9943\n",
      "Val: Loss 0.0473 Acc@1 0.9878\n",
      "Epoch: [14]\tTime  0.159\tData  0.009\tLoss 2.0520e-02\tAcc@1 0.9946\n",
      "Val: Loss 0.0346 Acc@1 0.9904\n",
      "Epoch: [15]\tTime  0.159\tData  0.010\tLoss 2.0524e-02\tAcc@1 0.9940\n",
      "Val: Loss 0.0468 Acc@1 0.9869\n",
      "Epoch: [16]\tTime  0.158\tData  0.009\tLoss 2.5060e-02\tAcc@1 0.9928\n",
      "Val: Loss 0.0382 Acc@1 0.9895\n",
      "Epoch: [17]\tTime  0.159\tData  0.009\tLoss 1.8960e-02\tAcc@1 0.9948\n",
      "Val: Loss 0.0358 Acc@1 0.9895\n",
      "Epoch: [18]\tTime  0.159\tData  0.009\tLoss 2.1831e-02\tAcc@1 0.9948\n",
      "Val: Loss 0.0376 Acc@1 0.9887\n",
      "Epoch    18: reducing learning rate of group 0 to 5.0000e-04.\n",
      "Epoch: [19]\tTime  0.159\tData  0.010\tLoss 1.6369e-02\tAcc@1 0.9966\n",
      "Val: Loss 0.0471 Acc@1 0.9878\n",
      "Epoch: [20]\tTime  0.159\tData  0.010\tLoss 1.0816e-02\tAcc@1 0.9969\n",
      "Val: Loss 0.0266 Acc@1 0.9948\n",
      "Epoch: [21]\tTime  0.158\tData  0.009\tLoss 1.0174e-02\tAcc@1 0.9971\n",
      "Val: Loss 0.0351 Acc@1 0.9904\n",
      "Epoch: [22]\tTime  0.158\tData  0.009\tLoss 9.5866e-03\tAcc@1 0.9972\n",
      "Val: Loss 0.0342 Acc@1 0.9922\n",
      "Epoch: [23]\tTime  0.159\tData  0.009\tLoss 1.4220e-02\tAcc@1 0.9969\n",
      "Val: Loss 0.0355 Acc@1 0.9904\n",
      "Epoch: [24]\tTime  0.159\tData  0.010\tLoss 7.5164e-03\tAcc@1 0.9980\n",
      "Val: Loss 0.0310 Acc@1 0.9922\n",
      "Epoch    24: reducing learning rate of group 0 to 2.5000e-04.\n",
      "Epoch: [25]\tTime  0.159\tData  0.009\tLoss 1.0803e-02\tAcc@1 0.9974\n",
      "Val: Loss 0.0365 Acc@1 0.9913\n",
      "Epoch: [26]\tTime  0.159\tData  0.009\tLoss 9.1746e-03\tAcc@1 0.9977\n",
      "Val: Loss 0.0266 Acc@1 0.9930\n",
      "Epoch: [27]\tTime  0.159\tData  0.010\tLoss 5.0365e-03\tAcc@1 0.9991\n",
      "Val: Loss 0.0308 Acc@1 0.9930\n",
      "Epoch: [28]\tTime  0.159\tData  0.010\tLoss 6.6444e-03\tAcc@1 0.9983\n",
      "Val: Loss 0.0373 Acc@1 0.9904\n",
      "Epoch: [29]\tTime  0.160\tData  0.010\tLoss 5.2994e-03\tAcc@1 0.9985\n",
      "Val: Loss 0.0318 Acc@1 0.9913\n",
      "Epoch: [30]\tTime  0.160\tData  0.010\tLoss 4.7119e-03\tAcc@1 0.9989\n",
      "Val: Loss 0.0330 Acc@1 0.9922\n",
      "Epoch    30: reducing learning rate of group 0 to 1.2500e-04.\n",
      "Epoch: [31]\tTime  0.159\tData  0.010\tLoss 6.7007e-03\tAcc@1 0.9986\n",
      "Val: Loss 0.0382 Acc@1 0.9913\n",
      "Epoch: [32]\tTime  0.160\tData  0.010\tLoss 6.6060e-03\tAcc@1 0.9983\n",
      "Val: Loss 0.0380 Acc@1 0.9904\n",
      "Epoch: [33]\tTime  0.159\tData  0.010\tLoss 5.1849e-03\tAcc@1 0.9983\n",
      "Val: Loss 0.0319 Acc@1 0.9930\n",
      "Epoch: [34]\tTime  0.159\tData  0.010\tLoss 5.5260e-03\tAcc@1 0.9986\n",
      "Val: Loss 0.0448 Acc@1 0.9887\n",
      "Epoch    34: reducing learning rate of group 0 to 6.2500e-05.\n",
      "Epoch: [35]\tTime  0.159\tData  0.010\tLoss 7.6326e-03\tAcc@1 0.9983\n",
      "Val: Loss 0.0361 Acc@1 0.9913\n",
      "Epoch: [36]\tTime  0.159\tData  0.010\tLoss 5.5244e-03\tAcc@1 0.9986\n",
      "Val: Loss 0.0376 Acc@1 0.9904\n",
      "Early Stopping\n",
      "Best loss of 0.0266 at epoch 27\n",
      "Best Acc@1: 0.9948 at epoch 21\n"
     ]
    }
   ],
   "source": [
    "patience = 3\n",
    "model_name = \"{}_{}nets_{}wo_val_v1_resize_{}x{}_rc_{}_pat{}\".format(arch, sum(train_labels), len(train_labels)-sum(train_labels), sz[0], sz[1], random_crop, patience)\n",
    "print(model_name)\n",
    "main(arch=arch, model_name=model_name, train_loader=train_loader, val_loader=val_loader, epochs=epochs, lr=lr, patience=patience, print_every_x_batches=print_every_x_batches)\n",
    "torch.cuda.empty_cache()"
   ]
  }
 ],
 "metadata": {
  "kernelspec": {
   "display_name": "Python 3",
   "language": "python",
   "name": "python3"
  },
  "language_info": {
   "codemirror_mode": {
    "name": "ipython",
    "version": 3
   },
   "file_extension": ".py",
   "mimetype": "text/x-python",
   "name": "python",
   "nbconvert_exporter": "python",
   "pygments_lexer": "ipython3",
   "version": "3.6.8"
  },
  "toc": {
   "base_numbering": 1,
   "nav_menu": {},
   "number_sections": true,
   "sideBar": true,
   "skip_h1_title": false,
   "title_cell": "Table of Contents",
   "title_sidebar": "Contents",
   "toc_cell": false,
   "toc_position": {},
   "toc_section_display": true,
   "toc_window_display": false
  }
 },
 "nbformat": 4,
 "nbformat_minor": 2
}
