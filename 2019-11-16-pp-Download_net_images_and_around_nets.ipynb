{
 "cells": [
  {
   "cell_type": "markdown",
   "metadata": {},
   "source": [
    "__Installation for working crawling with selenium__"
   ]
  },
  {
   "cell_type": "markdown",
   "metadata": {},
   "source": [
    "- !pip install selenium\n",
    "- !conda install -c conda-forge geckodriver --yes\n",
    "\n",
    "Create new Terminal and do:\n",
    "- apt-get update\n",
    "- apt install firefox"
   ]
  },
  {
   "cell_type": "code",
   "execution_count": 1,
   "metadata": {
    "ExecuteTime": {
     "end_time": "2019-11-18T14:52:24.652376Z",
     "start_time": "2019-11-18T14:52:21.974949Z"
    }
   },
   "outputs": [
    {
     "data": {
      "text/html": [
       "<style>.container { width:100% !important; }</style>"
      ],
      "text/plain": [
       "<IPython.core.display.HTML object>"
      ]
     },
     "metadata": {},
     "output_type": "display_data"
    }
   ],
   "source": [
    "%matplotlib inline\n",
    "%reload_ext autoreload\n",
    "%autoreload 2\n",
    "from crawling import get_random_crops_around_nets, SatImageryRequestHandler, load_webdriver, get_total_memory_percent\n",
    "import datetime\n",
    "\n",
    "from IPython.core.display import display, HTML\n",
    "display(HTML(\"<style>.container { width:100% !important; }</style>\"))\n",
    "\n",
    "date = datetime.datetime.now().strftime(\"%Y-%m-%d\")"
   ]
  },
  {
   "cell_type": "markdown",
   "metadata": {},
   "source": [
    "# Crawling images"
   ]
  },
  {
   "cell_type": "markdown",
   "metadata": {},
   "source": [
    "## Getting images centered on nets"
   ]
  },
  {
   "cell_type": "code",
   "execution_count": 1,
   "metadata": {
    "ExecuteTime": {
     "end_time": "2020-08-05T18:31:43.273957Z",
     "start_time": "2020-08-05T18:31:43.269402Z"
    },
    "scrolled": true
   },
   "outputs": [],
   "source": [
    "driver = load_webdriver()\n",
    "for zoom_level in [16, 17][:1]:\n",
    "    rr = SatImageryRequestHandler(driver=driver, _save_dir=\"data/nets\", filename_prefix='2019-11-17', zoom_level=zoom_level)\n",
    "    for coords in fish_coordinates:\n",
    "        rr.request_screenshot(lat=coords[0], long=coords[1])\n",
    "        if get_total_memory_percent() > 25:\n",
    "            # driver can load too much memory, then we need to reload it\n",
    "            print(f\"Total memory used by webdriver reported to be {get_total_memory_percent():.2f}% of system,\"\n",
    "                  f\" loading new webdriver\")\n",
    "            driver.quit()\n",
    "            driver = load_webdriver()"
   ]
  },
  {
   "cell_type": "markdown",
   "metadata": {},
   "source": [
    "## Get random crops from all around"
   ]
  },
  {
   "cell_type": "code",
   "execution_count": 2,
   "metadata": {
    "ExecuteTime": {
     "end_time": "2020-08-05T18:31:50.466711Z",
     "start_time": "2020-08-05T18:31:50.463667Z"
    }
   },
   "outputs": [],
   "source": [
    "get_random_crops_around_nets(zoom_levels=[16], _save_dir=\"data/inference_random\", filename_prefix=\"2019-11-17\", download_how_many=5000)"
   ]
  }
 ],
 "metadata": {
  "kernelspec": {
   "display_name": "Python 3",
   "language": "python",
   "name": "python3"
  },
  "language_info": {
   "codemirror_mode": {
    "name": "ipython",
    "version": 3
   },
   "file_extension": ".py",
   "mimetype": "text/x-python",
   "name": "python",
   "nbconvert_exporter": "python",
   "pygments_lexer": "ipython3",
   "version": "3.6.8"
  },
  "toc": {
   "base_numbering": 1,
   "nav_menu": {},
   "number_sections": true,
   "sideBar": true,
   "skip_h1_title": false,
   "title_cell": "Table of Contents",
   "title_sidebar": "Contents",
   "toc_cell": false,
   "toc_position": {},
   "toc_section_display": true,
   "toc_window_display": false
  }
 },
 "nbformat": 4,
 "nbformat_minor": 2
}
